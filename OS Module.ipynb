{
 "cells": [
  {
   "cell_type": "markdown",
   "id": "fc250f6f-68f9-4240-ba20-57709a5f2712",
   "metadata": {},
   "source": [
    "## Getting Started with OS"
   ]
  },
  {
   "cell_type": "code",
   "execution_count": null,
   "id": "fd6ccae2-ed48-4a9a-8caf-848a0489abf0",
   "metadata": {},
   "outputs": [],
   "source": [
    "import os \n",
    "\"The OS module helps to create folder, remove folder, fetch its content, identify cd, change cd and other operating tasks\""
   ]
  },
  {
   "cell_type": "code",
   "execution_count": null,
   "id": "d9e3fe6d-7d4d-467a-ba3f-f2f3346d1b50",
   "metadata": {},
   "outputs": [],
   "source": [
    "dir(os)   # details about all funcrions"
   ]
  },
  {
   "cell_type": "code",
   "execution_count": null,
   "id": "858ee3bb-7ab1-4d01-bbb0-4b75eb08ec9b",
   "metadata": {},
   "outputs": [],
   "source": [
    "# Getting started\n",
    "\n",
    "os.getcwd()                                                # current working directory\n",
    "os.chdir(r\"C:\\Users\\roshan\\Documents\")                # change directory\n",
    "os.listdir()                                               # see files and folders in cwd\n",
    "os.mkdir(\"demofolder\")                                     # creating new folder\n",
    "os.makedirs(\"demo2 / sub-dir1\")                            # folder inside folder\n",
    "os.rmdir(\"demofolder\")                                     #remove\n",
    "os.removedirs(\"demo2 / sub-dir1\")                          # remove two levels\n",
    "os.rename(\"demo2\", \"new name\")                             # rename "
   ]
  },
  {
   "cell_type": "code",
   "execution_count": null,
   "id": "8cb55de4-9719-4efd-8ae3-18b91c5d741c",
   "metadata": {},
   "outputs": [],
   "source": [
    "# Extremely useful to keep track of all the dirs and files you have\n",
    "\n",
    "for dirpath, dirnames, filenames in os.walk(os.getcwd()):\n",
    "    print(\"dirpath: \", dirpath)\n",
    "    print(\"dirnames: \", dirnames)\n",
    "    print(\"filenames: \",filenames)"
   ]
  },
  {
   "cell_type": "code",
   "execution_count": null,
   "id": "e04a05c1-b4dd-42c1-b0a1-5b9dda4a408b",
   "metadata": {},
   "outputs": [],
   "source": [
    "file_list = os.listdir(r\"C:\\Users\\roshan\\Documents\\\")\n",
    "file_list"
   ]
  },
  {
   "cell_type": "code",
   "execution_count": null,
   "id": "c05eb507-5b97-40f6-914b-b20d91f5cfef",
   "metadata": {},
   "outputs": [],
   "source": [
    "for file in file_list:\n",
    "    file_path = (r\"C:\\Users\\ext-khadkro\\Documents\") +'\\'\n",
    "    print(file_path)"
   ]
  },
  {
   "cell_type": "code",
   "execution_count": null,
   "id": "5e52ce1f-2e0a-40a3-9f18-5527c3d2ff2e",
   "metadata": {},
   "outputs": [],
   "source": []
  }
 ],
 "metadata": {
  "kernelspec": {
   "display_name": "Python 3 (ipykernel)",
   "language": "python",
   "name": "python3"
  },
  "language_info": {
   "codemirror_mode": {
    "name": "ipython",
    "version": 3
   },
   "file_extension": ".py",
   "mimetype": "text/x-python",
   "name": "python",
   "nbconvert_exporter": "python",
   "pygments_lexer": "ipython3",
   "version": "3.9.12"
  }
 },
 "nbformat": 4,
 "nbformat_minor": 5
}
