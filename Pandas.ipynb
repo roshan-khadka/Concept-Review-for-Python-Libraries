{
 "cells": [
  {
   "cell_type": "markdown",
   "id": "71d7f66d-8ed7-4691-acfb-e477bf22a396",
   "metadata": {},
   "source": [
    "## GETTING STARTED WITH PANDAS"
   ]
  },
  {
   "cell_type": "code",
   "execution_count": null,
   "id": "fbf439ff-6ff7-4d4a-8ce2-1cd5e213af45",
   "metadata": {},
   "outputs": [],
   "source": [
    "import pandas as pd\n",
    "import numpy as np\n",
    "from numpy.random import randn"
   ]
  },
  {
   "cell_type": "code",
   "execution_count": null,
   "id": "effd4fc8-ecb7-4a67-b671-b171f71d3d97",
   "metadata": {},
   "outputs": [],
   "source": [
    "df = pd.DataFrame(data = randn(5,4), index = ['A', 'B','C', 'D', 'E'], columns = ['W', 'X', 'Y', 'Z'])"
   ]
  },
  {
   "cell_type": "code",
   "execution_count": null,
   "id": "35111605-9461-445f-8e82-d983fcd17b2f",
   "metadata": {},
   "outputs": [],
   "source": [
    "# Dataframes 1 #df.head(),columns(), index(), info(), describe()\n",
    "\n",
    "df['X']                                       # columns are a single series.\n",
    "df['New'] = df['X'] + df['Y']\n",
    "df.drop(\"New\", axis = 1, inplace = False)     # doesnot delete row/column unless specified by inplace = True.     \n",
    "df.shape                                      # 5x5\n",
    "df.loc['A']                                   # not only columns but also rows are a single series.\n",
    "df.iloc[2]                                    # location based index to return rows\n",
    "df.loc['B', 'Y']                              # row,column\n",
    "df.loc[['A', 'B'], ['W', 'X']]                # subset of data"
   ]
  },
  {
   "cell_type": "code",
   "execution_count": null,
   "id": "660db2e3-6bcf-4f54-a65b-b208c6916b29",
   "metadata": {},
   "outputs": [],
   "source": [
    "# Dataframes 2 - conditional selection\n",
    "\n",
    "df[df>0]                                      # returns only +ve value\n",
    "df[df['W']>0]                                 # +ve value for a particular column\n",
    "df[(df['W'] >0) & (df['Y']>0)]                # multiple conditions. or = pipe\n",
    "\n",
    "# Modifying index\n",
    "df.reset_index(inplace = False)               # inplace = True to change the original index\n",
    "newindex = \" CA MN NY WY OR\".split()\n",
    "df['City'] = newindex                         # changing column into index, \n",
    "df.set_index('City', inplace = False)"
   ]
  },
  {
   "cell_type": "code",
   "execution_count": null,
   "id": "0c4115bf-8e2b-4d80-9d9a-7525920b3f48",
   "metadata": {},
   "outputs": [],
   "source": [
    "# Dataframes 3 - multi index and hierarchy"
   ]
  },
  {
   "cell_type": "code",
   "execution_count": null,
   "id": "9bd0ccf2-4683-435d-9a33-9366ab3c034c",
   "metadata": {},
   "outputs": [],
   "source": [
    "# Missing values.\n",
    "\n",
    "d = {'A' :[1, np.nan, 2], 'B' :[3, np.nan, 4], 'C' :[5, 3, 6]}\n",
    "df = pd.DataFrame(d)\n",
    "df.dropna()\n",
    "df.dropna(axis = 1)                            # drops any rows or columns with null value. 0 = rows and 1 = column\n",
    "df.dropna(thresh = 2)                          # return if 2 non-nan values\n",
    "df.fillna(value = \"Fill\")                      # filling whatever you want\n",
    "df.fillna(value = df.mean())                   #  mean value"
   ]
  },
  {
   "cell_type": "code",
   "execution_count": null,
   "id": "fdbcb1b4-83c0-4d74-a1d0-47be564e0344",
   "metadata": {},
   "outputs": [],
   "source": [
    "# Group By\n",
    "\n",
    "data = {'Company':['GOOG','GOOG','MSFT','MSFT','FB','FB'],\n",
    "       'Person':['Sam','Charlie','Amy','Vanessa','Carl','Sarah'],\n",
    "       'Sales':[200,120,340,124,243,350]}\n",
    "df = pd.DataFrame(data)\n",
    "by_company = df.groupby(\"Company\")                # company object\n",
    "by_company.sum()                                  # ignore strings and performs operation on int     \n",
    "by_company.mean()                                 # max, min, count, etc\n",
    "by_company.std()\n",
    "by_company.sum().loc['FB']                        # sum of particular row\n",
    "df.groupby(\"Company\").sum().loc['FB']             # one-liner\n",
    "df.groupby('Company').describe()"
   ]
  },
  {
   "cell_type": "code",
   "execution_count": null,
   "id": "864588d1-93d6-47e4-9d92-82deca90b669",
   "metadata": {},
   "outputs": [],
   "source": [
    "# Merging, joining, & Concatenating\n",
    "\n",
    "pd.concat([df1, df2, df3, axis = 0 or 1])               # make sure the dimensions are equal\n",
    "pd.merge([df1, df2, df3, how = 'inner', on = 'key'])    # similar to sql joins\n",
    "df1.join(df2)                                           # joining without a similar index"
   ]
  },
  {
   "cell_type": "code",
   "execution_count": null,
   "id": "69842068-e651-4e26-83b6-21a16609fd92",
   "metadata": {},
   "outputs": [],
   "source": [
    "# Operations\n",
    "\n",
    "df = pd.DataFrame({'col1':[1,2,3,4],'col2':[444,555,666,444],'col3':['abc','def','ghi','xyz']})\n",
    "df['col2'].unique()                            # returns numpy array of unique num\n",
    "df['col2'].nunique()                           # num of unique values\n",
    "df['col2'].value_counts()                      # counting repetitions\n",
    "df['col3'].apply(len)                          # .apply() is powerful method that allows us to operate using func.\n",
    "df['col1'].apply(lambda x: x*2)\n",
    "df.sort_values(by= 'col3')\n",
    "df.isnull()                                    # finding null values\n",
    "df.pivot_table()                               # learn when req"
   ]
  },
  {
   "cell_type": "code",
   "execution_count": null,
   "id": "b8d7aa0e-c3ca-4357-8b66-ca477584ce2f",
   "metadata": {},
   "outputs": [],
   "source": [
    "# Data input and output - CSV and EXCEL for now (can handle more files)\n",
    "\n",
    "df = pd.read_csv(\"name\")\n",
    "df = pd.read_excel(\"name.xlsx\", sheetname = 'Sheet1')       # only imports value not formulas and macros.\n",
    "df.to_excel('outputname.xlsx', sheet_name ='newsheet')      # writing a df to excel"
   ]
  },
  {
   "cell_type": "code",
   "execution_count": null,
   "id": "dfb2318d-84e0-4382-acda-c96b0125b2bc",
   "metadata": {},
   "outputs": [],
   "source": []
  }
 ],
 "metadata": {
  "kernelspec": {
   "display_name": "Python 3 (ipykernel)",
   "language": "python",
   "name": "python3"
  },
  "language_info": {
   "codemirror_mode": {
    "name": "ipython",
    "version": 3
   },
   "file_extension": ".py",
   "mimetype": "text/x-python",
   "name": "python",
   "nbconvert_exporter": "python",
   "pygments_lexer": "ipython3",
   "version": "3.9.12"
  }
 },
 "nbformat": 4,
 "nbformat_minor": 5
}
